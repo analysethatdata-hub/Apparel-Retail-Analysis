{
 "cells": [
  {
   "cell_type": "markdown",
   "id": "cd0ba2cf-bc2e-4a9b-8d41-63682323e733",
   "metadata": {},
   "source": [
    "# Importing different libraries"
   ]
  },
  {
   "cell_type": "code",
   "execution_count": 1,
   "id": "57a21eba-76d7-42b4-9692-21fdbc69336f",
   "metadata": {},
   "outputs": [],
   "source": [
    "import pandas as pd\n",
    "import numpy as np\n",
    "import seaborn as sns\n",
    "import matplotlib.pyplot as plt"
   ]
  },
  {
   "cell_type": "markdown",
   "id": "c1f397fa-2e81-4f21-979e-ec178d2e7e69",
   "metadata": {},
   "source": [
    "# Retrieve the dataset"
   ]
  },
  {
   "cell_type": "code",
   "execution_count": 2,
   "id": "3be7b611-a7be-498f-9dbc-9ec4eaee2b7e",
   "metadata": {},
   "outputs": [],
   "source": [
    "df=pd.read_csv('data_sales (1).csv')"
   ]
  },
  {
   "cell_type": "markdown",
   "id": "0b07f1f9-6dc7-441f-a4ae-24b2390d9f00",
   "metadata": {},
   "source": [
    "# Data Sampling"
   ]
  },
  {
   "cell_type": "code",
   "execution_count": 3,
   "id": "5983b4e7-e70e-43b4-9181-07907fbcbd83",
   "metadata": {},
   "outputs": [
    {
     "data": {
      "text/html": [
       "<div>\n",
       "<style scoped>\n",
       "    .dataframe tbody tr th:only-of-type {\n",
       "        vertical-align: middle;\n",
       "    }\n",
       "\n",
       "    .dataframe tbody tr th {\n",
       "        vertical-align: top;\n",
       "    }\n",
       "\n",
       "    .dataframe thead th {\n",
       "        text-align: right;\n",
       "    }\n",
       "</style>\n",
       "<table border=\"1\" class=\"dataframe\">\n",
       "  <thead>\n",
       "    <tr style=\"text-align: right;\">\n",
       "      <th></th>\n",
       "      <th>Retailer</th>\n",
       "      <th>Retailer ID</th>\n",
       "      <th>Invoice Date</th>\n",
       "      <th>Region</th>\n",
       "      <th>State</th>\n",
       "      <th>City</th>\n",
       "      <th>Product</th>\n",
       "      <th>Price per Unit</th>\n",
       "      <th>Units Sold</th>\n",
       "      <th>Total Sales</th>\n",
       "      <th>Operating Profit</th>\n",
       "      <th>Sales Method</th>\n",
       "    </tr>\n",
       "  </thead>\n",
       "  <tbody>\n",
       "    <tr>\n",
       "      <th>0</th>\n",
       "      <td>Walmart</td>\n",
       "      <td>1128299</td>\n",
       "      <td>6/17/2021</td>\n",
       "      <td>Southeast</td>\n",
       "      <td>Florida</td>\n",
       "      <td>Orlando</td>\n",
       "      <td>Women's Apparel</td>\n",
       "      <td>$103.00</td>\n",
       "      <td>218</td>\n",
       "      <td>2,245</td>\n",
       "      <td>$1,257</td>\n",
       "      <td>Online</td>\n",
       "    </tr>\n",
       "    <tr>\n",
       "      <th>1</th>\n",
       "      <td>West Gear</td>\n",
       "      <td>1128299</td>\n",
       "      <td>7/16/2021</td>\n",
       "      <td>South</td>\n",
       "      <td>Louisiana</td>\n",
       "      <td>New Orleans</td>\n",
       "      <td>Women's Apparel</td>\n",
       "      <td>$103.00</td>\n",
       "      <td>163</td>\n",
       "      <td>1,679</td>\n",
       "      <td>$806</td>\n",
       "      <td>Online</td>\n",
       "    </tr>\n",
       "    <tr>\n",
       "      <th>2</th>\n",
       "      <td>Sports Direct</td>\n",
       "      <td>1197831</td>\n",
       "      <td>8/25/2021</td>\n",
       "      <td>South</td>\n",
       "      <td>Alabama</td>\n",
       "      <td>Birmingham</td>\n",
       "      <td>Men's Street Footwear</td>\n",
       "      <td>$10.00</td>\n",
       "      <td>700</td>\n",
       "      <td>7,000</td>\n",
       "      <td>$3,150</td>\n",
       "      <td>Outlet</td>\n",
       "    </tr>\n",
       "    <tr>\n",
       "      <th>3</th>\n",
       "      <td>Sports Direct</td>\n",
       "      <td>1197831</td>\n",
       "      <td>8/27/2021</td>\n",
       "      <td>South</td>\n",
       "      <td>Alabama</td>\n",
       "      <td>Birmingham</td>\n",
       "      <td>Women's Street Footwear</td>\n",
       "      <td>$15.00</td>\n",
       "      <td>575</td>\n",
       "      <td>8,625</td>\n",
       "      <td>$3,881</td>\n",
       "      <td>Outlet</td>\n",
       "    </tr>\n",
       "    <tr>\n",
       "      <th>4</th>\n",
       "      <td>Sports Direct</td>\n",
       "      <td>1197831</td>\n",
       "      <td>8/21/2021</td>\n",
       "      <td>South</td>\n",
       "      <td>Alabama</td>\n",
       "      <td>Birmingham</td>\n",
       "      <td>Women's Street Footwear</td>\n",
       "      <td>$15.00</td>\n",
       "      <td>475</td>\n",
       "      <td>7,125</td>\n",
       "      <td>$3,206</td>\n",
       "      <td>Outlet</td>\n",
       "    </tr>\n",
       "  </tbody>\n",
       "</table>\n",
       "</div>"
      ],
      "text/plain": [
       "        Retailer  Retailer ID Invoice Date     Region      State         City  \\\n",
       "0        Walmart      1128299    6/17/2021  Southeast    Florida      Orlando   \n",
       "1      West Gear      1128299    7/16/2021      South  Louisiana  New Orleans   \n",
       "2  Sports Direct      1197831    8/25/2021      South    Alabama   Birmingham   \n",
       "3  Sports Direct      1197831    8/27/2021      South    Alabama   Birmingham   \n",
       "4  Sports Direct      1197831    8/21/2021      South    Alabama   Birmingham   \n",
       "\n",
       "                   Product Price per Unit Units Sold Total Sales  \\\n",
       "0          Women's Apparel       $103.00         218       2,245   \n",
       "1          Women's Apparel       $103.00         163       1,679   \n",
       "2    Men's Street Footwear        $10.00         700       7,000   \n",
       "3  Women's Street Footwear        $15.00         575       8,625   \n",
       "4  Women's Street Footwear        $15.00         475       7,125   \n",
       "\n",
       "  Operating Profit Sales Method  \n",
       "0          $1,257        Online  \n",
       "1            $806        Online  \n",
       "2          $3,150        Outlet  \n",
       "3          $3,881        Outlet  \n",
       "4          $3,206        Outlet  "
      ]
     },
     "execution_count": 3,
     "metadata": {},
     "output_type": "execute_result"
    }
   ],
   "source": [
    "df.head()"
   ]
  },
  {
   "cell_type": "code",
   "execution_count": 4,
   "id": "3a95abd9-15d0-4d2b-ba20-ab0b1ae9810f",
   "metadata": {},
   "outputs": [
    {
     "data": {
      "text/html": [
       "<div>\n",
       "<style scoped>\n",
       "    .dataframe tbody tr th:only-of-type {\n",
       "        vertical-align: middle;\n",
       "    }\n",
       "\n",
       "    .dataframe tbody tr th {\n",
       "        vertical-align: top;\n",
       "    }\n",
       "\n",
       "    .dataframe thead th {\n",
       "        text-align: right;\n",
       "    }\n",
       "</style>\n",
       "<table border=\"1\" class=\"dataframe\">\n",
       "  <thead>\n",
       "    <tr style=\"text-align: right;\">\n",
       "      <th></th>\n",
       "      <th>Retailer</th>\n",
       "      <th>Retailer ID</th>\n",
       "      <th>Invoice Date</th>\n",
       "      <th>Region</th>\n",
       "      <th>State</th>\n",
       "      <th>City</th>\n",
       "      <th>Product</th>\n",
       "      <th>Price per Unit</th>\n",
       "      <th>Units Sold</th>\n",
       "      <th>Total Sales</th>\n",
       "      <th>Operating Profit</th>\n",
       "      <th>Sales Method</th>\n",
       "    </tr>\n",
       "  </thead>\n",
       "  <tbody>\n",
       "    <tr>\n",
       "      <th>9636</th>\n",
       "      <td>Amazon</td>\n",
       "      <td>1185732</td>\n",
       "      <td>11/18/2021</td>\n",
       "      <td>Northeast</td>\n",
       "      <td>Maine</td>\n",
       "      <td>Portland</td>\n",
       "      <td>Men's Apparel</td>\n",
       "      <td>$65.00</td>\n",
       "      <td>150</td>\n",
       "      <td>9,750</td>\n",
       "      <td>$2,438</td>\n",
       "      <td>Outlet</td>\n",
       "    </tr>\n",
       "    <tr>\n",
       "      <th>9637</th>\n",
       "      <td>Amazon</td>\n",
       "      <td>1185732</td>\n",
       "      <td>10/22/2021</td>\n",
       "      <td>West</td>\n",
       "      <td>Alaska</td>\n",
       "      <td>Anchorage</td>\n",
       "      <td>Women's Athletic Footwear</td>\n",
       "      <td>$65.00</td>\n",
       "      <td>150</td>\n",
       "      <td>9,750</td>\n",
       "      <td>$2,438</td>\n",
       "      <td>Outlet</td>\n",
       "    </tr>\n",
       "    <tr>\n",
       "      <th>9638</th>\n",
       "      <td>Amazon</td>\n",
       "      <td>1185732</td>\n",
       "      <td>10/22/2021</td>\n",
       "      <td>West</td>\n",
       "      <td>Alaska</td>\n",
       "      <td>Anchorage</td>\n",
       "      <td>Men's Apparel</td>\n",
       "      <td>$75.00</td>\n",
       "      <td>150</td>\n",
       "      <td>11,250</td>\n",
       "      <td>$2,813</td>\n",
       "      <td>Outlet</td>\n",
       "    </tr>\n",
       "    <tr>\n",
       "      <th>9639</th>\n",
       "      <td>West Gear</td>\n",
       "      <td>1185732</td>\n",
       "      <td>4/10/2021</td>\n",
       "      <td>Midwest</td>\n",
       "      <td>Indiana</td>\n",
       "      <td>Indianapolis</td>\n",
       "      <td>Men's Apparel</td>\n",
       "      <td>$65.00</td>\n",
       "      <td>150</td>\n",
       "      <td>9,750</td>\n",
       "      <td>$2,925</td>\n",
       "      <td>In-store</td>\n",
       "    </tr>\n",
       "    <tr>\n",
       "      <th>9640</th>\n",
       "      <td>Sports Direct</td>\n",
       "      <td>1185732</td>\n",
       "      <td>10/5/2021</td>\n",
       "      <td>Northeast</td>\n",
       "      <td>Connecticut</td>\n",
       "      <td>Hartford</td>\n",
       "      <td>Men's Apparel</td>\n",
       "      <td>$65.00</td>\n",
       "      <td>150</td>\n",
       "      <td>9,750</td>\n",
       "      <td>$2,925</td>\n",
       "      <td>In-store</td>\n",
       "    </tr>\n",
       "  </tbody>\n",
       "</table>\n",
       "</div>"
      ],
      "text/plain": [
       "           Retailer  Retailer ID Invoice Date     Region        State  \\\n",
       "9636         Amazon      1185732   11/18/2021  Northeast        Maine   \n",
       "9637         Amazon      1185732   10/22/2021       West       Alaska   \n",
       "9638         Amazon      1185732   10/22/2021       West       Alaska   \n",
       "9639      West Gear      1185732    4/10/2021    Midwest      Indiana   \n",
       "9640  Sports Direct      1185732    10/5/2021  Northeast  Connecticut   \n",
       "\n",
       "              City                    Product Price per Unit Units Sold  \\\n",
       "9636      Portland              Men's Apparel        $65.00         150   \n",
       "9637     Anchorage  Women's Athletic Footwear        $65.00         150   \n",
       "9638     Anchorage              Men's Apparel        $75.00         150   \n",
       "9639  Indianapolis              Men's Apparel        $65.00         150   \n",
       "9640      Hartford              Men's Apparel        $65.00         150   \n",
       "\n",
       "     Total Sales Operating Profit Sales Method  \n",
       "9636       9,750          $2,438        Outlet  \n",
       "9637       9,750          $2,438        Outlet  \n",
       "9638      11,250          $2,813        Outlet  \n",
       "9639       9,750          $2,925      In-store  \n",
       "9640       9,750          $2,925      In-store  "
      ]
     },
     "execution_count": 4,
     "metadata": {},
     "output_type": "execute_result"
    }
   ],
   "source": [
    "df.tail()"
   ]
  },
  {
   "cell_type": "markdown",
   "id": "c8c4563a-2e06-4f99-83f5-693bbf08c017",
   "metadata": {},
   "source": [
    "# Check/Handle Null Values "
   ]
  },
  {
   "cell_type": "code",
   "execution_count": 5,
   "id": "ac2fdbd6-c074-434f-b0ed-0363b2d89ef5",
   "metadata": {},
   "outputs": [
    {
     "name": "stdout",
     "output_type": "stream",
     "text": [
      "<class 'pandas.core.frame.DataFrame'>\n",
      "RangeIndex: 9641 entries, 0 to 9640\n",
      "Data columns (total 12 columns):\n",
      " #   Column            Non-Null Count  Dtype \n",
      "---  ------            --------------  ----- \n",
      " 0   Retailer          9641 non-null   object\n",
      " 1   Retailer ID       9641 non-null   int64 \n",
      " 2   Invoice Date      9641 non-null   object\n",
      " 3   Region            9641 non-null   object\n",
      " 4   State             9641 non-null   object\n",
      " 5   City              9641 non-null   object\n",
      " 6   Product           9641 non-null   object\n",
      " 7   Price per Unit    9639 non-null   object\n",
      " 8   Units Sold        9641 non-null   object\n",
      " 9   Total Sales       9641 non-null   object\n",
      " 10  Operating Profit  9641 non-null   object\n",
      " 11  Sales Method      9641 non-null   object\n",
      "dtypes: int64(1), object(11)\n",
      "memory usage: 904.0+ KB\n"
     ]
    }
   ],
   "source": [
    "df.info()"
   ]
  },
  {
   "cell_type": "code",
   "execution_count": 6,
   "id": "437603b9-e7e5-44ae-a6ef-0bc14b54cb84",
   "metadata": {},
   "outputs": [
    {
     "data": {
      "image/png": "[encoded data removed]",
      "text/plain": [
       "<Figure size 640x480 with 2 Axes>"
      ]
     },
     "metadata": {},
     "output_type": "display_data"
    }
   ],
   "source": [
    "sns.heatmap(df.isna())\n",
    "plt.show()"
   ]
  },
  {
   "cell_type": "code",
   "execution_count": 7,
   "id": "91dc9d8e-274a-4eed-8327-7f10b92cdc03",
   "metadata": {},
   "outputs": [
    {
     "data": {
      "text/plain": [
       "Retailer            0\n",
       "Retailer ID         0\n",
       "Invoice Date        0\n",
       "Region              0\n",
       "State               0\n",
       "City                0\n",
       "Product             0\n",
       "Price per Unit      2\n",
       "Units Sold          0\n",
       "Total Sales         0\n",
       "Operating Profit    0\n",
       "Sales Method        0\n",
       "dtype: int64"
      ]
     },
     "execution_count": 7,
     "metadata": {},
     "output_type": "execute_result"
    }
   ],
   "source": [
    "df.isna().sum()"
   ]
  },
  {
   "cell_type": "code",
   "execution_count": 8,
   "id": "a9f9e6c1-9211-464b-aa71-07dbbc52c712",
   "metadata": {},
   "outputs": [],
   "source": [
    "df['Price per Unit']=df['Price per Unit'].fillna('$10.00')"
   ]
  },
  {
   "cell_type": "code",
   "execution_count": 9,
   "id": "38fabd7f-756a-4fd9-9d2a-d13a91f17a7b",
   "metadata": {},
   "outputs": [
    {
     "name": "stdout",
     "output_type": "stream",
     "text": [
      "<class 'pandas.core.frame.DataFrame'>\n",
      "RangeIndex: 9641 entries, 0 to 9640\n",
      "Data columns (total 12 columns):\n",
      " #   Column            Non-Null Count  Dtype \n",
      "---  ------            --------------  ----- \n",
      " 0   Retailer          9641 non-null   object\n",
      " 1   Retailer ID       9641 non-null   int64 \n",
      " 2   Invoice Date      9641 non-null   object\n",
      " 3   Region            9641 non-null   object\n",
      " 4   State             9641 non-null   object\n",
      " 5   City              9641 non-null   object\n",
      " 6   Product           9641 non-null   object\n",
      " 7   Price per Unit    9641 non-null   object\n",
      " 8   Units Sold        9641 non-null   object\n",
      " 9   Total Sales       9641 non-null   object\n",
      " 10  Operating Profit  9641 non-null   object\n",
      " 11  Sales Method      9641 non-null   object\n",
      "dtypes: int64(1), object(11)\n",
      "memory usage: 904.0+ KB\n"
     ]
    }
   ],
   "source": [
    "df.info()"
   ]
  },
  {
   "cell_type": "markdown",
   "id": "aba41c8d-277c-4197-b1da-b28becadce41",
   "metadata": {},
   "source": [
    "# Check/Handle Duplicates"
   ]
  },
  {
   "cell_type": "code",
   "execution_count": 10,
   "id": "bb8d9116-17f7-4196-b352-6a55d14e15b1",
   "metadata": {},
   "outputs": [
    {
     "name": "stdout",
     "output_type": "stream",
     "text": [
      "Are there any duplicates ? False\n"
     ]
    }
   ],
   "source": [
    "print('Are there any duplicates ?',df.duplicated().any())"
   ]
  },
  {
   "cell_type": "markdown",
   "id": "b6097d49-9531-4dc7-8dc6-03d28e8b4078",
   "metadata": {},
   "source": [
    "# Data Preprocessing"
   ]
  },
  {
   "cell_type": "markdown",
   "id": "1562848e-6a72-46d9-b785-22815a7a0c3d",
   "metadata": {},
   "source": [
    "####  **Create proper date format**"
   ]
  },
  {
   "cell_type": "code",
   "execution_count": 11,
   "id": "896dcf19-40b4-45d3-be89-94b518112fb3",
   "metadata": {},
   "outputs": [],
   "source": [
    "df['Invoice Date']=pd.to_datetime(df['Invoice Date'])"
   ]
  },
  {
   "cell_type": "markdown",
   "id": "4deb30f3-bc74-423a-b9b2-b11b802ba4fd",
   "metadata": {},
   "source": [
    "####  **Convert numerical columns to float data format**"
   ]
  },
  {
   "cell_type": "code",
   "execution_count": 12,
   "id": "cf0b454a-9370-4130-bf22-5a5969d3a9f3",
   "metadata": {},
   "outputs": [],
   "source": [
    "df['Price per Unit']=df['Price per Unit'].str.replace('$','').astype('float')"
   ]
  },
  {
   "cell_type": "markdown",
   "id": "20165d93-2691-4edd-81cd-dabff321b118",
   "metadata": {},
   "source": [
    "####  **Convert numerical columns to float data format**"
   ]
  },
  {
   "cell_type": "code",
   "execution_count": 13,
   "id": "427bc267-ed5b-411d-be1d-464219a405ba",
   "metadata": {},
   "outputs": [],
   "source": [
    "df['Operating Profit']=df['Operating Profit'].str.replace('$','').str.replace(',','').astype('float')"
   ]
  },
  {
   "cell_type": "code",
   "execution_count": 14,
   "id": "59e4ecbf-8934-4712-afc3-0b1845d84543",
   "metadata": {},
   "outputs": [],
   "source": [
    "df['Units Sold']=df['Units Sold'].str.replace(',','').astype('int32')"
   ]
  },
  {
   "cell_type": "markdown",
   "id": "f8bbebc8-160f-43fc-af33-42ff3d2dc9d5",
   "metadata": {},
   "source": [
    "####  **Create new Sales column**"
   ]
  },
  {
   "cell_type": "code",
   "execution_count": 15,
   "id": "136a6099-883d-40a3-8ae5-112994e0ca21",
   "metadata": {},
   "outputs": [],
   "source": [
    "df['sales']=df['Price per Unit']*df['Units Sold']"
   ]
  },
  {
   "cell_type": "markdown",
   "id": "5bc2a2f3-3f67-4e79-ab22-c24f8c6e5615",
   "metadata": {},
   "source": [
    "####  **Create Cost of sales column**"
   ]
  },
  {
   "cell_type": "code",
   "execution_count": 16,
   "id": "3a8c456c-0007-4ef2-8c08-94af64585f8e",
   "metadata": {},
   "outputs": [],
   "source": [
    "df['cost_of_sales']=df['sales']-df['Operating Profit']"
   ]
  },
  {
   "cell_type": "markdown",
   "id": "a9123dae-b2df-4b3d-9a38-afc0cc406d94",
   "metadata": {},
   "source": [
    "####  **Drop unused columns**"
   ]
  },
  {
   "cell_type": "code",
   "execution_count": 17,
   "id": "193020b3-209d-4efc-9b03-02487b0e9b17",
   "metadata": {},
   "outputs": [],
   "source": [
    "df.drop(axis=1,columns='Total Sales',inplace=True)"
   ]
  },
  {
   "cell_type": "markdown",
   "id": "5497af39-9ff5-42dd-bffe-14f6602b5bc7",
   "metadata": {},
   "source": [
    "####  **Rename Columns**"
   ]
  },
  {
   "cell_type": "code",
   "execution_count": 18,
   "id": "e6fdb50b-0083-4faa-8e94-34c9c54e112e",
   "metadata": {},
   "outputs": [],
   "source": [
    "df.columns=['retailer', 'retailer_ID', 'invoice_date', 'region', 'state', 'city',\n",
    "       'product', 'price_per_unit', 'units_sold', 'operating_profit',\n",
    "       'sales_method', 'sales', 'cost_of_sales']"
   ]
  },
  {
   "cell_type": "code",
   "execution_count": 19,
   "id": "f46b7142-853d-4d1d-a403-0df4d7df6138",
   "metadata": {},
   "outputs": [
    {
     "name": "stdout",
     "output_type": "stream",
     "text": [
      "<class 'pandas.core.frame.DataFrame'>\n",
      "RangeIndex: 9641 entries, 0 to 9640\n",
      "Data columns (total 13 columns):\n",
      " #   Column            Non-Null Count  Dtype         \n",
      "---  ------            --------------  -----         \n",
      " 0   retailer          9641 non-null   object        \n",
      " 1   retailer_ID       9641 non-null   int64         \n",
      " 2   invoice_date      9641 non-null   datetime64[ns]\n",
      " 3   region            9641 non-null   object        \n",
      " 4   state             9641 non-null   object        \n",
      " 5   city              9641 non-null   object        \n",
      " 6   product           9641 non-null   object        \n",
      " 7   price_per_unit    9641 non-null   float64       \n",
      " 8   units_sold        9641 non-null   int32         \n",
      " 9   operating_profit  9641 non-null   float64       \n",
      " 10  sales_method      9641 non-null   object        \n",
      " 11  sales             9641 non-null   float64       \n",
      " 12  cost_of_sales     9641 non-null   float64       \n",
      "dtypes: datetime64[ns](1), float64(4), int32(1), int64(1), object(6)\n",
      "memory usage: 941.6+ KB\n"
     ]
    }
   ],
   "source": [
    "df.info()"
   ]
  },
  {
   "cell_type": "code",
   "execution_count": 20,
   "id": "24d90f04-e4c2-44a3-be2b-48a918fab606",
   "metadata": {},
   "outputs": [
    {
     "data": {
      "text/plain": [
       "Index(['retailer', 'retailer_ID', 'invoice_date', 'region', 'state', 'city',\n",
       "       'product', 'price_per_unit', 'units_sold', 'operating_profit',\n",
       "       'sales_method', 'sales', 'cost_of_sales'],\n",
       "      dtype='object')"
      ]
     },
     "execution_count": 20,
     "metadata": {},
     "output_type": "execute_result"
    }
   ],
   "source": [
    "df.columns"
   ]
  },
  {
   "cell_type": "code",
   "execution_count": 21,
   "id": "c3d15d86-0aba-4998-bde3-4497f1bc0016",
   "metadata": {},
   "outputs": [],
   "source": [
    "from pathlib import Path  # doctest: +SKIP\n",
    "filepath = Path(r'C:\\Users\\User\\Downloads\\SQL\\PROJECTS\\apparel.csv')  # doctest: +SKIP\n",
    "filepath.parent.mkdir(parents=True, exist_ok=True)  # doctest: +SKIP\n",
    "df.to_csv(filepath,columns= ['retailer', 'retailer_ID', 'invoice_date', 'region', 'state', 'city',\n",
    "       'product', 'price_per_unit', 'units_sold', 'operating_profit',\n",
    "       'sales_method', 'sales', 'cost_of_sales'],header= True,\n",
    "        index = True,)  # doctest: +SKIP"
   ]
  },
  {
   "cell_type": "markdown",
   "id": "6f4120db-6bc0-4521-8901-e92dee803cab",
   "metadata": {},
   "source": [
    "####  **Create year column**"
   ]
  },
  {
   "cell_type": "code",
   "execution_count": 22,
   "id": "7f845bf8-4749-4ea5-b494-e13c6756d0d6",
   "metadata": {},
   "outputs": [],
   "source": [
    "df['year']=df['invoice_date'].dt.year"
   ]
  },
  {
   "cell_type": "markdown",
   "id": "2693ce98-a271-409e-a705-cd72fe06ed4f",
   "metadata": {},
   "source": [
    "####  **Create month column**"
   ]
  },
  {
   "cell_type": "code",
   "execution_count": 23,
   "id": "ae49a94b-42e4-48e0-bf7c-ee5969f7a9b3",
   "metadata": {},
   "outputs": [],
   "source": [
    "df['month']=df['invoice_date'].dt.month"
   ]
  },
  {
   "cell_type": "markdown",
   "id": "0c0dbf0d-20f0-41ae-be39-a06eb8927fa6",
   "metadata": {},
   "source": [
    "# Check/Handle Categorical or Ordinal data"
   ]
  },
  {
   "cell_type": "code",
   "execution_count": 24,
   "id": "b4434022-fcbd-413a-a096-b49d805fe1c4",
   "metadata": {},
   "outputs": [
    {
     "data": {
      "text/plain": [
       "6"
      ]
     },
     "execution_count": 24,
     "metadata": {},
     "output_type": "execute_result"
    }
   ],
   "source": [
    "df['retailer'].nunique()"
   ]
  },
  {
   "cell_type": "code",
   "execution_count": 25,
   "id": "dd9dadf2-6b31-4e23-9a47-766354676a3d",
   "metadata": {},
   "outputs": [
    {
     "data": {
      "text/plain": [
       "array([1128299, 1197831, 1185732, 1189833])"
      ]
     },
     "execution_count": 25,
     "metadata": {},
     "output_type": "execute_result"
    }
   ],
   "source": [
    "df['retailer_ID'].unique()"
   ]
  },
  {
   "cell_type": "code",
   "execution_count": 26,
   "id": "6da6609c-8e24-46db-9d9b-812ef66237de",
   "metadata": {},
   "outputs": [
    {
     "data": {
      "text/plain": [
       "4"
      ]
     },
     "execution_count": 26,
     "metadata": {},
     "output_type": "execute_result"
    }
   ],
   "source": [
    "df['retailer_ID'].nunique()"
   ]
  },
  {
   "cell_type": "code",
   "execution_count": 27,
   "id": "a7d77d4a-ce0a-4114-b48f-7e8eff30c645",
   "metadata": {},
   "outputs": [
    {
     "data": {
      "text/plain": [
       "array(['Southeast', 'South', 'Midwest', 'Northeast', 'West'], dtype=object)"
      ]
     },
     "execution_count": 27,
     "metadata": {},
     "output_type": "execute_result"
    }
   ],
   "source": [
    "df['region'].unique()"
   ]
  },
  {
   "cell_type": "code",
   "execution_count": 28,
   "id": "007dca46-bdce-4d6c-ba53-bb3841d74480",
   "metadata": {},
   "outputs": [
    {
     "data": {
      "text/plain": [
       "5"
      ]
     },
     "execution_count": 28,
     "metadata": {},
     "output_type": "execute_result"
    }
   ],
   "source": [
    "df['region'].nunique()"
   ]
  },
  {
   "cell_type": "code",
   "execution_count": 29,
   "id": "6a0ca35c-02ff-4781-a70b-0b10fb48bc59",
   "metadata": {},
   "outputs": [
    {
     "data": {
      "text/plain": [
       "array(['Florida', 'Louisiana', 'Alabama', 'Missouri', 'Mississippi',\n",
       "       'Wisconsin', 'New York', 'Michigan', 'Utah', 'Ohio', 'Arkansas',\n",
       "       'Georgia', 'Texas', 'Oklahoma', 'West Virginia', 'California',\n",
       "       'South Carolina', 'Kansas', 'Tennessee', 'North Carolina', 'Idaho',\n",
       "       'Indiana', 'New Jersey', 'Oregon', 'South Dakota', 'North Dakota',\n",
       "       'Iowa', 'Maryland', 'Delaware', 'Washington', 'Virginia',\n",
       "       'Wyoming', 'Minnesota', 'Kentucky', 'Connecticut', 'Rhode Island',\n",
       "       'Massachusetts', 'New Mexico', 'Nevada', 'Illinois', 'Nebraska',\n",
       "       'Maine', 'Arizona', 'Vermont', 'New Hampshire', 'Hawaii',\n",
       "       'Montana', 'Colorado', 'Pennsylvania', 'Alaska'], dtype=object)"
      ]
     },
     "execution_count": 29,
     "metadata": {},
     "output_type": "execute_result"
    }
   ],
   "source": [
    "df['state'].unique()"
   ]
  },
  {
   "cell_type": "code",
   "execution_count": 30,
   "id": "836c058a-e5c3-4e0f-adc8-432439df065c",
   "metadata": {},
   "outputs": [
    {
     "data": {
      "text/plain": [
       "50"
      ]
     },
     "execution_count": 30,
     "metadata": {},
     "output_type": "execute_result"
    }
   ],
   "source": [
    "df['state'].nunique()"
   ]
  },
  {
   "cell_type": "code",
   "execution_count": 31,
   "id": "c1fb93da-b5b9-4511-aca4-f0e0303f5aed",
   "metadata": {},
   "outputs": [
    {
     "data": {
      "text/plain": [
       "array(['Orlando', 'New Orleans', 'Birmingham', 'St. Louis', 'Jackson',\n",
       "       'Milwaukee', 'New York', 'Detroit', 'Salt Lake City', 'Columbus',\n",
       "       'Little Rock', 'Atlanta', 'Houston', 'Oklahoma City', 'Charleston',\n",
       "       'San Francisco', 'Dallas', 'Wichita', 'Miami', 'Knoxville',\n",
       "       'Los Angeles', 'Charlotte', 'Boise', 'Indianapolis', 'Newark',\n",
       "       'Portland', 'Sioux Falls', 'Fargo', 'Des Moines', 'Baltimore',\n",
       "       'Wilmington', 'Seattle', 'Richmond', 'Albany', 'Cheyenne',\n",
       "       'Minneapolis', 'Louisville', 'Hartford', 'Providence', 'Boston',\n",
       "       'Albuquerque', 'Las Vegas', 'Chicago', 'Omaha', 'Phoenix',\n",
       "       'Burlington', 'Manchester', 'Honolulu', 'Billings', 'Denver',\n",
       "       'Philadelphia', 'Anchorage'], dtype=object)"
      ]
     },
     "execution_count": 31,
     "metadata": {},
     "output_type": "execute_result"
    }
   ],
   "source": [
    "df['city'].unique()"
   ]
  },
  {
   "cell_type": "code",
   "execution_count": 32,
   "id": "7b243a12-535f-4949-a664-0898e79453ee",
   "metadata": {},
   "outputs": [
    {
     "data": {
      "text/plain": [
       "52"
      ]
     },
     "execution_count": 32,
     "metadata": {},
     "output_type": "execute_result"
    }
   ],
   "source": [
    "df['city'].nunique()"
   ]
  },
  {
   "cell_type": "code",
   "execution_count": 33,
   "id": "6a5a5ecb-5d39-45c0-8c1d-8d9096b5dc42",
   "metadata": {},
   "outputs": [
    {
     "data": {
      "text/plain": [
       "state\n",
       "Florida           2\n",
       "California        2\n",
       "Texas             2\n",
       "New York          2\n",
       "Alaska            1\n",
       "Alabama           1\n",
       "Colorado          1\n",
       "Connecticut       1\n",
       "Arkansas          1\n",
       "Arizona           1\n",
       "Hawaii            1\n",
       "Idaho             1\n",
       "Illinois          1\n",
       "Indiana           1\n",
       "Iowa              1\n",
       "Kansas            1\n",
       "Delaware          1\n",
       "Georgia           1\n",
       "Louisiana         1\n",
       "Kentucky          1\n",
       "Massachusetts     1\n",
       "Maine             1\n",
       "Minnesota         1\n",
       "Mississippi       1\n",
       "Missouri          1\n",
       "Maryland          1\n",
       "Montana           1\n",
       "Nebraska          1\n",
       "New Hampshire     1\n",
       "Nevada            1\n",
       "New Jersey        1\n",
       "New Mexico        1\n",
       "North Carolina    1\n",
       "Michigan          1\n",
       "North Dakota      1\n",
       "Ohio              1\n",
       "Oregon            1\n",
       "Oklahoma          1\n",
       "Rhode Island      1\n",
       "South Carolina    1\n",
       "South Dakota      1\n",
       "Pennsylvania      1\n",
       "Tennessee         1\n",
       "Utah              1\n",
       "Vermont           1\n",
       "Virginia          1\n",
       "Washington        1\n",
       "West Virginia     1\n",
       "Wisconsin         1\n",
       "Wyoming           1\n",
       "Name: city, dtype: int64"
      ]
     },
     "execution_count": 33,
     "metadata": {},
     "output_type": "execute_result"
    }
   ],
   "source": [
    "df.groupby('state')['city'].nunique().sort_values(ascending=False)"
   ]
  },
  {
   "cell_type": "code",
   "execution_count": 34,
   "id": "fdbbdd2c-5508-43b3-9895-ad22b4491208",
   "metadata": {},
   "outputs": [
    {
     "data": {
      "text/plain": [
       "region\n",
       "Midwest      13\n",
       "Northeast    13\n",
       "South         8\n",
       "Southeast     7\n",
       "West         13\n",
       "Name: city, dtype: int64"
      ]
     },
     "execution_count": 34,
     "metadata": {},
     "output_type": "execute_result"
    }
   ],
   "source": [
    "df.groupby('region')['city'].nunique()"
   ]
  },
  {
   "cell_type": "code",
   "execution_count": 35,
   "id": "285b44c1-5931-4809-a16a-7bf506475a58",
   "metadata": {},
   "outputs": [
    {
     "data": {
      "text/plain": [
       "state           region   \n",
       "Florida         Southeast    2\n",
       "California      West         2\n",
       "Texas           South        2\n",
       "New York        Northeast    2\n",
       "Alaska          West         1\n",
       "Alabama         South        1\n",
       "Colorado        West         1\n",
       "Connecticut     Northeast    1\n",
       "Arkansas        South        1\n",
       "Arizona         West         1\n",
       "Hawaii          West         1\n",
       "Idaho           West         1\n",
       "Illinois        Midwest      1\n",
       "Indiana         Midwest      1\n",
       "Iowa            Midwest      1\n",
       "Kansas          Midwest      1\n",
       "Delaware        Northeast    1\n",
       "Georgia         Southeast    1\n",
       "Louisiana       South        1\n",
       "Kentucky        Southeast    1\n",
       "Massachusetts   Northeast    1\n",
       "Maine           Northeast    1\n",
       "Minnesota       Midwest      1\n",
       "Mississippi     South        1\n",
       "Missouri        Midwest      1\n",
       "Maryland        Northeast    1\n",
       "Montana         Midwest      1\n",
       "Nebraska        Midwest      1\n",
       "New Hampshire   Northeast    1\n",
       "Nevada          West         1\n",
       "New Jersey      Northeast    1\n",
       "New Mexico      West         1\n",
       "North Carolina  Southeast    1\n",
       "Michigan        Midwest      1\n",
       "North Dakota    Midwest      1\n",
       "Ohio            Midwest      1\n",
       "Oregon          West         1\n",
       "Oklahoma        South        1\n",
       "Rhode Island    Northeast    1\n",
       "South Carolina  Southeast    1\n",
       "South Dakota    Midwest      1\n",
       "Pennsylvania    Northeast    1\n",
       "Tennessee       South        1\n",
       "Utah            West         1\n",
       "Vermont         Northeast    1\n",
       "Virginia        Southeast    1\n",
       "Washington      West         1\n",
       "West Virginia   Northeast    1\n",
       "Wisconsin       Midwest      1\n",
       "Wyoming         West         1\n",
       "Name: city, dtype: int64"
      ]
     },
     "execution_count": 35,
     "metadata": {},
     "output_type": "execute_result"
    }
   ],
   "source": [
    "df.groupby(['state','region'])['city'].nunique().sort_values(ascending=False)"
   ]
  },
  {
   "cell_type": "code",
   "execution_count": 36,
   "id": "66216038-f1cd-4b9f-b55b-234fe38b3c77",
   "metadata": {},
   "outputs": [
    {
     "data": {
      "text/plain": [
       "array(['Online', 'Outlet', 'In-store'], dtype=object)"
      ]
     },
     "execution_count": 36,
     "metadata": {},
     "output_type": "execute_result"
    }
   ],
   "source": [
    "df['sales_method'].unique()"
   ]
  },
  {
   "cell_type": "markdown",
   "id": "7fa79189-1eed-47f8-a631-93edfbd4521f",
   "metadata": {},
   "source": [
    "# Data Exploration"
   ]
  },
  {
   "cell_type": "markdown",
   "id": "cc0e6de8-0619-4dc6-83f9-595f6a66a71a",
   "metadata": {},
   "source": [
    "### 1. Analysis of Sales,Cost and Gross Margin"
   ]
  },
  {
   "cell_type": "code",
   "execution_count": 37,
   "id": "14cf93b9-80bd-43e9-9ad9-031f3f2b554a",
   "metadata": {},
   "outputs": [
    {
     "name": "stdout",
     "output_type": "stream",
     "text": [
      "Total Sales = 119938775.0\n"
     ]
    }
   ],
   "source": [
    "print('Total Sales =',df['sales'].sum())"
   ]
  },
  {
   "cell_type": "code",
   "execution_count": 38,
   "id": "0cc9e986-b149-4668-85c4-8cdd249ab765",
   "metadata": {},
   "outputs": [
    {
     "name": "stdout",
     "output_type": "stream",
     "text": [
      "Total Cogs = 86780691.0\n"
     ]
    }
   ],
   "source": [
    "print('Total Cogs =',df['cost_of_sales'].sum())"
   ]
  },
  {
   "cell_type": "code",
   "execution_count": 39,
   "id": "daea0492-6bb2-4189-a3ef-7c60b1bf839b",
   "metadata": {},
   "outputs": [
    {
     "name": "stdout",
     "output_type": "stream",
     "text": [
      "Gross Profit = 33158084.0\n"
     ]
    }
   ],
   "source": [
    "print('Gross Profit =',df['sales'].sum()-df['cost_of_sales'].sum())"
   ]
  },
  {
   "cell_type": "code",
   "execution_count": 40,
   "id": "c36bb59f-d925-447e-8e1c-89898a786a16",
   "metadata": {},
   "outputs": [
    {
     "name": "stdout",
     "output_type": "stream",
     "text": [
      "Gross Profit% = 0.28\n"
     ]
    }
   ],
   "source": [
    "print('Gross Profit% =',round((df['sales'].sum()-df['cost_of_sales'].sum())/df['sales'].sum(),2))"
   ]
  },
  {
   "cell_type": "markdown",
   "id": "2c7e8ef1-24da-4c8b-97cb-7c9655d8551b",
   "metadata": {},
   "source": [
    "###### **Yoy change Sales**"
   ]
  },
  {
   "cell_type": "code",
   "execution_count": 41,
   "id": "b615258b-2592-444f-9be6-da4aeff687e5",
   "metadata": {},
   "outputs": [
    {
     "data": {
      "text/plain": [
       "year\n",
       "2020    24065200.0\n",
       "2021    95873575.0\n",
       "Name: sales, dtype: float64"
      ]
     },
     "execution_count": 41,
     "metadata": {},
     "output_type": "execute_result"
    }
   ],
   "source": [
    "df.groupby('year')['sales'].sum()"
   ]
  },
  {
   "cell_type": "code",
   "execution_count": 42,
   "id": "c26c33da-76ef-472a-b4c1-f87ce1aeeba8",
   "metadata": {},
   "outputs": [
    {
     "data": {
      "text/plain": [
       "year\n",
       "2020           NaN\n",
       "2021    24065200.0\n",
       "Name: sales, dtype: float64"
      ]
     },
     "execution_count": 42,
     "metadata": {},
     "output_type": "execute_result"
    }
   ],
   "source": [
    "df.groupby('year')['sales'].sum().shift(1)"
   ]
  },
  {
   "cell_type": "code",
   "execution_count": 43,
   "id": "015cfdd5-f834-43d4-95c5-3bdcc8b27c86",
   "metadata": {},
   "outputs": [
    {
     "data": {
      "text/plain": [
       "year\n",
       "2020     NaN\n",
       "2021    2.98\n",
       "Name: sales, dtype: float64"
      ]
     },
     "execution_count": 43,
     "metadata": {},
     "output_type": "execute_result"
    }
   ],
   "source": [
    "round((df.groupby('year')['sales'].sum()-df.groupby('year')['sales'].sum().shift(1))/df.groupby('year')['sales'].sum().shift(1),2)"
   ]
  },
  {
   "cell_type": "markdown",
   "id": "16938315-272d-43c2-bb02-da1adfe5d677",
   "metadata": {},
   "source": [
    "###### **Mom% change Sales**"
   ]
  },
  {
   "cell_type": "code",
   "execution_count": 44,
   "id": "7d2237da-d29f-4e18-a132-e7aa11e1063b",
   "metadata": {},
   "outputs": [
    {
     "data": {
      "text/plain": [
       "year  month\n",
       "2020  1         2270246.0\n",
       "      2         2140813.0\n",
       "      3         2474202.0\n",
       "      4         3193081.0\n",
       "      5         2164764.0\n",
       "      6         1084194.0\n",
       "      7         2143763.0\n",
       "      8         2606630.0\n",
       "      9         2367686.0\n",
       "      10        1428569.0\n",
       "      11        1168050.0\n",
       "      12        1023202.0\n",
       "2021  1         7396271.0\n",
       "      2         6123040.0\n",
       "      3         5220782.0\n",
       "      4         6498339.0\n",
       "      5         8576956.0\n",
       "      6         8698953.0\n",
       "      7        10368031.0\n",
       "      8         9651596.0\n",
       "      9         8037898.0\n",
       "      10        7110189.0\n",
       "      11        7855390.0\n",
       "      12       10336130.0\n",
       "Name: sales, dtype: float64"
      ]
     },
     "execution_count": 44,
     "metadata": {},
     "output_type": "execute_result"
    }
   ],
   "source": [
    "df.groupby(['year','month'])['sales'].sum()"
   ]
  },
  {
   "cell_type": "code",
   "execution_count": 45,
   "id": "90c9bcc0-d36d-4234-887f-a9f680ef22ca",
   "metadata": {},
   "outputs": [
    {
     "data": {
      "text/plain": [
       "year  month\n",
       "2020  1               NaN\n",
       "      2         2270246.0\n",
       "      3         2140813.0\n",
       "      4         2474202.0\n",
       "      5         3193081.0\n",
       "      6         2164764.0\n",
       "      7         1084194.0\n",
       "      8         2143763.0\n",
       "      9         2606630.0\n",
       "      10        2367686.0\n",
       "      11        1428569.0\n",
       "      12        1168050.0\n",
       "2021  1         1023202.0\n",
       "      2         7396271.0\n",
       "      3         6123040.0\n",
       "      4         5220782.0\n",
       "      5         6498339.0\n",
       "      6         8576956.0\n",
       "      7         8698953.0\n",
       "      8        10368031.0\n",
       "      9         9651596.0\n",
       "      10        8037898.0\n",
       "      11        7110189.0\n",
       "      12        7855390.0\n",
       "Name: sales, dtype: float64"
      ]
     },
     "execution_count": 45,
     "metadata": {},
     "output_type": "execute_result"
    }
   ],
   "source": [
    "df.groupby(['year','month'])['sales'].sum().shift(1)"
   ]
  },
  {
   "cell_type": "code",
   "execution_count": 46,
   "id": "9f8b9cd8-dc77-45b2-95dd-05a37e9b3c52",
   "metadata": {},
   "outputs": [
    {
     "data": {
      "text/plain": [
       "year  month\n",
       "2020  1             NaN\n",
       "      2       -0.057013\n",
       "      3        0.155730\n",
       "      4        0.290550\n",
       "      5       -0.322045\n",
       "      6       -0.499163\n",
       "      7        0.977287\n",
       "      8        0.215913\n",
       "      9       -0.091668\n",
       "      10      -0.396639\n",
       "      11      -0.182364\n",
       "      12      -0.124008\n",
       "2021  1        6.228554\n",
       "      2       -0.172145\n",
       "      3       -0.147355\n",
       "      4        0.244706\n",
       "      5        0.319869\n",
       "      6        0.014224\n",
       "      7        0.191871\n",
       "      8       -0.069100\n",
       "      9       -0.167195\n",
       "      10      -0.115417\n",
       "      11       0.104807\n",
       "      12       0.315801\n",
       "Name: sales, dtype: float64"
      ]
     },
     "execution_count": 46,
     "metadata": {},
     "output_type": "execute_result"
    }
   ],
   "source": [
    "(df.groupby(['year','month'])['sales'].sum()-df.groupby(['year','month'])['sales'].sum().shift(1))/df.groupby(['year','month'])['sales'].sum().shift(1)"
   ]
  },
  {
   "cell_type": "markdown",
   "id": "ed07bc80-8a4b-4418-8380-013efb9f498c",
   "metadata": {},
   "source": [
    "# 2. Sales by categorical data"
   ]
  },
  {
   "cell_type": "markdown",
   "id": "c311baa4-88a7-47f8-9407-ac6805a6185d",
   "metadata": {},
   "source": [
    "###### **Sales value by product**"
   ]
  },
  {
   "cell_type": "code",
   "execution_count": 47,
   "id": "e0b75ea9-054b-41be-8491-39af8c712c31",
   "metadata": {},
   "outputs": [
    {
     "data": {
      "text/plain": [
       "product\n",
       "Men's Street Footwear        27680769.0\n",
       "Women's Apparel              23814985.0\n",
       "Men's Athletic Footwear      20532180.0\n",
       "Women's Street Footwear      17171938.0\n",
       "Men's Apparel                16373382.0\n",
       "Women's Athletic Footwear    14311521.0\n",
       "Men's aparel                    54000.0\n",
       "Name: sales, dtype: float64"
      ]
     },
     "execution_count": 47,
     "metadata": {},
     "output_type": "execute_result"
    }
   ],
   "source": [
    "df.groupby('product')['sales'].sum().sort_values(ascending=False)"
   ]
  },
  {
   "cell_type": "markdown",
   "id": "56b5ba4f-024c-4b6a-806b-9da0c47afbf6",
   "metadata": {},
   "source": [
    "###### ***The highest selling product is mens street footwear.***"
   ]
  },
  {
   "cell_type": "markdown",
   "id": "4913cb92-b164-43b5-be46-d58022c86280",
   "metadata": {},
   "source": [
    "###### **Sales value by Retailer**"
   ]
  },
  {
   "cell_type": "code",
   "execution_count": 48,
   "id": "138ebf32-199e-466d-97fb-c882f4f3840f",
   "metadata": {},
   "outputs": [
    {
     "data": {
      "text/plain": [
       "retailer\n",
       "West Gear        32317808.0\n",
       "Foot Locker      28962445.0\n",
       "Sports Direct    24542997.0\n",
       "Kohl's           13512453.0\n",
       "Walmart          10506085.0\n",
       "Amazon           10096987.0\n",
       "Name: sales, dtype: float64"
      ]
     },
     "execution_count": 48,
     "metadata": {},
     "output_type": "execute_result"
    }
   ],
   "source": [
    "df.groupby('retailer')['sales'].sum().sort_values(ascending=False)"
   ]
  },
  {
   "cell_type": "markdown",
   "id": "fba0c0ac-32c1-4254-8732-85b26cd00564",
   "metadata": {},
   "source": [
    "###### ***West Gear is the highest selling retailer of our products.***"
   ]
  },
  {
   "cell_type": "markdown",
   "id": "68c7bf5b-1409-47af-b1c8-339aeb4593f8",
   "metadata": {},
   "source": [
    "###### **Sales value by Region**"
   ]
  },
  {
   "cell_type": "code",
   "execution_count": 49,
   "id": "00efbeac-6c55-4e7c-aae2-049e32cd21a8",
   "metadata": {},
   "outputs": [
    {
     "data": {
      "text/plain": [
       "region\n",
       "West         36344407.0\n",
       "Northeast    25035767.0\n",
       "Southeast    21374436.0\n",
       "South        20529731.0\n",
       "Midwest      16654434.0\n",
       "Name: sales, dtype: float64"
      ]
     },
     "execution_count": 49,
     "metadata": {},
     "output_type": "execute_result"
    }
   ],
   "source": [
    "df.groupby('region')['sales'].sum().sort_values(ascending=False)"
   ]
  },
  {
   "cell_type": "markdown",
   "id": "6b32ab86-16b5-47f2-bba9-af9272e38bac",
   "metadata": {},
   "source": [
    "###### ***The West coast is the highest selling region.***"
   ]
  },
  {
   "cell_type": "markdown",
   "id": "6cdfa34d-567f-418f-a7fe-5f3336f08732",
   "metadata": {},
   "source": [
    "###### **Sales value by State**"
   ]
  },
  {
   "cell_type": "code",
   "execution_count": 50,
   "id": "0f579f53-b634-467d-a85c-4bb2c799e8dc",
   "metadata": {},
   "outputs": [
    {
     "data": {
      "text/plain": [
       "state\n",
       "New York          8627964.0\n",
       "California        8488758.0\n",
       "Florida           7820589.0\n",
       "Texas             6538746.0\n",
       "South Carolina    3593112.0\n",
       "Louisiana         3377031.0\n",
       "Washington        3222093.0\n",
       "Virginia          3074415.0\n",
       "Oregon            3047049.0\n",
       "Nevada            2981134.0\n",
       "North Carolina    2936581.0\n",
       "New Mexico        2824641.0\n",
       "Idaho             2742753.0\n",
       "Hawaii            2734457.0\n",
       "Georgia           2708591.0\n",
       "Colorado          2569036.0\n",
       "Tennessee         2567190.0\n",
       "Alabama           2513424.0\n",
       "New Hampshire     2339267.0\n",
       "Michigan          2287283.0\n",
       "Wyoming           2282342.0\n",
       "Ohio              2269283.0\n",
       "Arizona           2254096.0\n",
       "Mississippi       2218609.0\n",
       "Vermont           2041598.0\n",
       "Montana           1930761.0\n",
       "Alaska            1810428.0\n",
       "Arkansas          1802672.0\n",
       "Connecticut       1646448.0\n",
       "Massachusetts     1578435.0\n",
       "Oklahoma          1512059.0\n",
       "Delaware          1508537.0\n",
       "Pennsylvania      1478794.0\n",
       "Utah              1387620.0\n",
       "West Virginia     1311160.0\n",
       "Kentucky          1241148.0\n",
       "Kansas            1225314.0\n",
       "New Jersey        1220446.0\n",
       "Rhode Island      1202256.0\n",
       "Missouri          1189515.0\n",
       "Illinois          1184063.0\n",
       "Maine             1129728.0\n",
       "Indiana           1084723.0\n",
       "South Dakota      1041101.0\n",
       "Maryland           951134.0\n",
       "North Dakota       950930.0\n",
       "Wisconsin          948894.0\n",
       "Iowa               909811.0\n",
       "Minnesota          903918.0\n",
       "Nebraska           728838.0\n",
       "Name: sales, dtype: float64"
      ]
     },
     "execution_count": 50,
     "metadata": {},
     "output_type": "execute_result"
    }
   ],
   "source": [
    "df.groupby('state')['sales'].sum().sort_values(ascending=False)"
   ]
  },
  {
   "cell_type": "markdown",
   "id": "bf04dbf5-39a6-49a8-9d0b-00326556882a",
   "metadata": {},
   "source": [
    "###### ***New York state is the highest selling state.***"
   ]
  },
  {
   "cell_type": "markdown",
   "id": "f8a0060d-91b5-4277-9d40-e7c31bdd81c8",
   "metadata": {},
   "source": [
    "###### **Sales value by City**"
   ]
  },
  {
   "cell_type": "code",
   "execution_count": 51,
   "id": "2315667e-552e-421c-9141-0a076415f570",
   "metadata": {},
   "outputs": [
    {
     "data": {
      "text/plain": [
       "city\n",
       "New York          5633660.0\n",
       "Charleston        4904272.0\n",
       "San Francisco     4837470.0\n",
       "Portland          4176777.0\n",
       "Orlando           3946476.0\n",
       "Miami             3874113.0\n",
       "Los Angeles       3651288.0\n",
       "Houston           3556007.0\n",
       "New Orleans       3377031.0\n",
       "Seattle           3222093.0\n",
       "Richmond          3074415.0\n",
       "Albany            2994304.0\n",
       "Dallas            2982739.0\n",
       "Las Vegas         2981134.0\n",
       "Charlotte         2936581.0\n",
       "Albuquerque       2824641.0\n",
       "Boise             2742753.0\n",
       "Honolulu          2734457.0\n",
       "Atlanta           2708591.0\n",
       "Denver            2569036.0\n",
       "Knoxville         2567190.0\n",
       "Birmingham        2513424.0\n",
       "Manchester        2339267.0\n",
       "Detroit           2287283.0\n",
       "Cheyenne          2282342.0\n",
       "Columbus          2269283.0\n",
       "Phoenix           2254096.0\n",
       "Jackson           2218609.0\n",
       "Burlington        2041598.0\n",
       "Billings          1930761.0\n",
       "Anchorage         1810428.0\n",
       "Little Rock       1802672.0\n",
       "Hartford          1646448.0\n",
       "Boston            1578435.0\n",
       "Oklahoma City     1512059.0\n",
       "Wilmington        1508537.0\n",
       "Philadelphia      1478794.0\n",
       "Salt Lake City    1387620.0\n",
       "Louisville        1241148.0\n",
       "Wichita           1225314.0\n",
       "Newark            1220446.0\n",
       "Providence        1202256.0\n",
       "St. Louis         1189515.0\n",
       "Chicago           1184063.0\n",
       "Indianapolis      1084723.0\n",
       "Sioux Falls       1041101.0\n",
       "Baltimore          951134.0\n",
       "Fargo              950930.0\n",
       "Milwaukee          948894.0\n",
       "Des Moines         909811.0\n",
       "Minneapolis        903918.0\n",
       "Omaha              728838.0\n",
       "Name: sales, dtype: float64"
      ]
     },
     "execution_count": 51,
     "metadata": {},
     "output_type": "execute_result"
    }
   ],
   "source": [
    "df.groupby('city')['sales'].sum().sort_values(ascending=False)"
   ]
  },
  {
   "cell_type": "markdown",
   "id": "cf5383d7-5b5f-45df-88e5-8a874917de7e",
   "metadata": {},
   "source": [
    "###### ***New York city is the highest selling state. This is consistent with sales by state.***"
   ]
  },
  {
   "cell_type": "markdown",
   "id": "b2d303a1-78dd-46d2-8dbb-6ba541eb8cf0",
   "metadata": {},
   "source": [
    "###### **Sales value by State,region and city.**"
   ]
  },
  {
   "cell_type": "code",
   "execution_count": 52,
   "id": "c96a07ca-98ec-4464-b926-10135104e255",
   "metadata": {},
   "outputs": [
    {
     "data": {
      "text/plain": [
       "state           region     city          \n",
       "New York        Northeast  New York          5633660.0\n",
       "California      West       San Francisco     4837470.0\n",
       "Florida         Southeast  Orlando           3946476.0\n",
       "                           Miami             3874113.0\n",
       "California      West       Los Angeles       3651288.0\n",
       "South Carolina  Southeast  Charleston        3593112.0\n",
       "Texas           South      Houston           3556007.0\n",
       "Louisiana       South      New Orleans       3377031.0\n",
       "Washington      West       Seattle           3222093.0\n",
       "Virginia        Southeast  Richmond          3074415.0\n",
       "Oregon          West       Portland          3047049.0\n",
       "New York        Northeast  Albany            2994304.0\n",
       "Texas           South      Dallas            2982739.0\n",
       "Nevada          West       Las Vegas         2981134.0\n",
       "North Carolina  Southeast  Charlotte         2936581.0\n",
       "New Mexico      West       Albuquerque       2824641.0\n",
       "Idaho           West       Boise             2742753.0\n",
       "Hawaii          West       Honolulu          2734457.0\n",
       "Georgia         Southeast  Atlanta           2708591.0\n",
       "Colorado        West       Denver            2569036.0\n",
       "Tennessee       South      Knoxville         2567190.0\n",
       "Alabama         South      Birmingham        2513424.0\n",
       "New Hampshire   Northeast  Manchester        2339267.0\n",
       "Michigan        Midwest    Detroit           2287283.0\n",
       "Wyoming         West       Cheyenne          2282342.0\n",
       "Ohio            Midwest    Columbus          2269283.0\n",
       "Arizona         West       Phoenix           2254096.0\n",
       "Mississippi     South      Jackson           2218609.0\n",
       "Vermont         Northeast  Burlington        2041598.0\n",
       "Montana         Midwest    Billings          1930761.0\n",
       "Alaska          West       Anchorage         1810428.0\n",
       "Arkansas        South      Little Rock       1802672.0\n",
       "Connecticut     Northeast  Hartford          1646448.0\n",
       "Massachusetts   Northeast  Boston            1578435.0\n",
       "Oklahoma        South      Oklahoma City     1512059.0\n",
       "Delaware        Northeast  Wilmington        1508537.0\n",
       "Pennsylvania    Northeast  Philadelphia      1478794.0\n",
       "Utah            West       Salt Lake City    1387620.0\n",
       "West Virginia   Northeast  Charleston        1311160.0\n",
       "Kentucky        Southeast  Louisville        1241148.0\n",
       "Kansas          Midwest    Wichita           1225314.0\n",
       "New Jersey      Northeast  Newark            1220446.0\n",
       "Rhode Island    Northeast  Providence        1202256.0\n",
       "Missouri        Midwest    St. Louis         1189515.0\n",
       "Illinois        Midwest    Chicago           1184063.0\n",
       "Maine           Northeast  Portland          1129728.0\n",
       "Indiana         Midwest    Indianapolis      1084723.0\n",
       "South Dakota    Midwest    Sioux Falls       1041101.0\n",
       "Maryland        Northeast  Baltimore          951134.0\n",
       "North Dakota    Midwest    Fargo              950930.0\n",
       "Wisconsin       Midwest    Milwaukee          948894.0\n",
       "Iowa            Midwest    Des Moines         909811.0\n",
       "Minnesota       Midwest    Minneapolis        903918.0\n",
       "Nebraska        Midwest    Omaha              728838.0\n",
       "Name: sales, dtype: float64"
      ]
     },
     "execution_count": 52,
     "metadata": {},
     "output_type": "execute_result"
    }
   ],
   "source": [
    "df.groupby(['state','region','city'])['sales'].sum().sort_values(ascending=False)"
   ]
  },
  {
   "cell_type": "markdown",
   "id": "99533f05-c802-415f-ab3a-7161f9a486d3",
   "metadata": {},
   "source": [
    "###### ***The hisghest selling states are New York,California and Florida with New York,San Francisco,Orlando and Miami being the protagonists in each state.***"
   ]
  },
  {
   "cell_type": "markdown",
   "id": "7605ef2f-9c05-4f7e-80ee-1a3112ac4482",
   "metadata": {},
   "source": [
    "###### **Sales value by Sales Channel.**"
   ]
  },
  {
   "cell_type": "code",
   "execution_count": 53,
   "id": "e8851801-f641-4bff-a435-293b893723ff",
   "metadata": {},
   "outputs": [
    {
     "data": {
      "text/plain": [
       "sales_method\n",
       "Online      44965657.0\n",
       "Outlet      39308743.0\n",
       "In-store    35664375.0\n",
       "Name: sales, dtype: float64"
      ]
     },
     "execution_count": 53,
     "metadata": {},
     "output_type": "execute_result"
    }
   ],
   "source": [
    "df.groupby('sales_method')['sales'].sum().sort_values(ascending=False)"
   ]
  },
  {
   "cell_type": "markdown",
   "id": "5e432fc3-9ec0-4f43-a447-8b9f41f3b5fc",
   "metadata": {},
   "source": [
    "###### ***The highest selling sales channel is online.***"
   ]
  },
  {
   "cell_type": "markdown",
   "id": "eed037ea-1880-49f2-bce4-c111d6bf252f",
   "metadata": {},
   "source": [
    "###### **Sales value by Sales Channel and product and retailer in each state and city.**"
   ]
  },
  {
   "cell_type": "code",
   "execution_count": 54,
   "id": "d9cab3cb-507c-43ea-bc41-37c801bc2cbf",
   "metadata": {},
   "outputs": [
    {
     "data": {
      "text/plain": [
       "sales_method  product                  retailer       state           city         \n",
       "Outlet        Women's Apparel          West Gear      California      San Francisco    730141.0\n",
       "Online        Men's Street Footwear    Foot Locker    South Carolina  Charleston       709340.0\n",
       "Outlet        Men's Athletic Footwear  West Gear      California      San Francisco    696712.0\n",
       "              Men's Street Footwear    West Gear      California      San Francisco    693179.0\n",
       "              Women's Street Footwear  West Gear      California      San Francisco    615014.0\n",
       "              Women's Apparel          Kohl's         California      Los Angeles      601725.0\n",
       "Online        Men's Street Footwear    Sports Direct  North Carolina  Charlotte        595282.0\n",
       "              Women's Apparel          Foot Locker    South Carolina  Charleston       594979.0\n",
       "Outlet        Men's Apparel            West Gear      California      San Francisco    562982.0\n",
       "Online        Men's Street Footwear    Amazon         Ohio            Columbus         548277.0\n",
       "Name: sales, dtype: float64"
      ]
     },
     "execution_count": 54,
     "metadata": {},
     "output_type": "execute_result"
    }
   ],
   "source": [
    "df.groupby(['sales_method','product','retailer','state','city'])['sales'].sum().nlargest(10)"
   ]
  },
  {
   "cell_type": "markdown",
   "id": "d919c8e8-a6bd-47b8-b579-6fbb83861b0d",
   "metadata": {},
   "source": [
    "###### ***The metric differs from product and sales channel metrics. This metric displays that women's apparel is the leading product in outlets,yet the highest selling product is mens footwear and the leading sales channel is online. We can deduce that women in San Francisco are leading customers for womens apparel in major outlets.***"
   ]
  },
  {
   "cell_type": "markdown",
   "id": "a866dc2d-6277-4cf8-92a2-8f8aae885ac5",
   "metadata": {},
   "source": [
    "###### **Sales value by Retailer in each state,region and city.**"
   ]
  },
  {
   "cell_type": "code",
   "execution_count": 55,
   "id": "d43c2b99-309d-4cff-aa03-7d50501b1301",
   "metadata": {},
   "outputs": [
    {
     "data": {
      "text/plain": [
       "retailer       state           region     city         \n",
       "West Gear      California      West       San Francisco    4668897.0\n",
       "Kohl's         California      West       Los Angeles      3578910.0\n",
       "Foot Locker    New York        Northeast  New York         3511643.0\n",
       "               South Carolina  Southeast  Charleston       3048130.0\n",
       "West Gear      Oregon          West       Portland         3047049.0\n",
       "               Washington      West       Seattle          3043300.0\n",
       "Walmart        Florida         Southeast  Orlando          2992039.0\n",
       "West Gear      Nevada          West       Las Vegas        2981134.0\n",
       "Sports Direct  Texas           South      Dallas           2923048.0\n",
       "West Gear      Louisiana       South      New Orleans      2903868.0\n",
       "Name: sales, dtype: float64"
      ]
     },
     "execution_count": 55,
     "metadata": {},
     "output_type": "execute_result"
    }
   ],
   "source": [
    "df.groupby(['retailer','state','region','city'])['sales'].sum().nlargest(10)"
   ]
  },
  {
   "cell_type": "markdown",
   "id": "c2f21987-222d-4b52-bd51-8e7047142382",
   "metadata": {},
   "source": [
    "###### ***This metric is very similar to the one above,West Gear is the leading retailer in the state of california and the city of San Francisco.***"
   ]
  },
  {
   "cell_type": "code",
   "execution_count": 56,
   "id": "a2df06c0-8882-4cee-9a61-003a2724e693",
   "metadata": {},
   "outputs": [
    {
     "data": {
      "text/plain": [
       "retailer\n",
       "Foot Locker      32\n",
       "Sports Direct    26\n",
       "West Gear        23\n",
       "Kohl's           12\n",
       "Amazon            9\n",
       "Walmart           6\n",
       "Name: city, dtype: int64"
      ]
     },
     "execution_count": 56,
     "metadata": {},
     "output_type": "execute_result"
    }
   ],
   "source": [
    "df.groupby(['retailer'])['city'].nunique().nlargest(10)"
   ]
  },
  {
   "cell_type": "markdown",
   "id": "3429e526-cea2-49c9-889a-b847bb891f7a",
   "metadata": {},
   "source": [
    "###### **Footlocker has a footprint in 32 cities. Whilst Sports Direct(26) and the leading retailer West Gear(23). It would seem that even though footlocker has more footprint our products are best sold at West Gear outlets.**"
   ]
  },
  {
   "cell_type": "code",
   "execution_count": 57,
   "id": "da5b9e72-cb09-46ed-ab16-c287966c63c0",
   "metadata": {},
   "outputs": [
    {
     "data": {
      "text/plain": [
       "retailer\n",
       "Foot Locker      33\n",
       "Sports Direct    24\n",
       "West Gear        23\n",
       "Kohl's           11\n",
       "Amazon            9\n",
       "Walmart           6\n",
       "Name: state, dtype: int64"
      ]
     },
     "execution_count": 57,
     "metadata": {},
     "output_type": "execute_result"
    }
   ],
   "source": [
    "df.groupby(['retailer'])['state'].nunique().nlargest(10)"
   ]
  },
  {
   "cell_type": "markdown",
   "id": "3d685e70-9e6b-492a-b798-c96e40fbdfba",
   "metadata": {},
   "source": [
    "###### **Footlocker has a footprint in 33 states. West Gear outlets are in ten less states than Footlocker but is the leading seller.**"
   ]
  },
  {
   "cell_type": "code",
   "execution_count": 58,
   "id": "7f50560e-df86-453e-9b56-9464fbb804eb",
   "metadata": {},
   "outputs": [
    {
     "data": {
      "text/plain": [
       "retailer       sales_method\n",
       "Amazon         Online           540\n",
       "               Outlet           291\n",
       "               In-store         118\n",
       "Foot Locker    Online          1395\n",
       "               Outlet           790\n",
       "               In-store         449\n",
       "Kohl's         Online           576\n",
       "               Outlet           310\n",
       "               In-store         144\n",
       "Sports Direct  Online           995\n",
       "               Outlet           742\n",
       "               In-store         293\n",
       "Walmart        Outlet           301\n",
       "               Online           288\n",
       "               In-store          37\n",
       "West Gear      Online          1095\n",
       "               In-store         699\n",
       "               Outlet           578\n",
       "Name: count, dtype: int64"
      ]
     },
     "execution_count": 58,
     "metadata": {},
     "output_type": "execute_result"
    }
   ],
   "source": [
    "df.groupby('retailer')['sales_method'].value_counts()"
   ]
  },
  {
   "cell_type": "markdown",
   "id": "800688ec-6dc6-499e-8c30-d1da0597c5c3",
   "metadata": {},
   "source": [
    "###### **This metric displays that in all retailers online is the leading sales channel. In some cases by even more than 50%,which would suggest that sales and marketing should focus their attention on this channel to maximise sales opportunities.**"
   ]
  },
  {
   "cell_type": "markdown",
   "id": "4519ca58-1a89-4920-8117-4c16e6e6724c",
   "metadata": {},
   "source": [
    "###### **Sales by retailer and product in each state and city**"
   ]
  },
  {
   "cell_type": "code",
   "execution_count": 59,
   "id": "e49385b6-ee73-45de-a98c-2fcff18a389f",
   "metadata": {},
   "outputs": [
    {
     "data": {
      "text/plain": [
       "retailer     product                    state           city         \n",
       "West Gear    Women's Apparel            California      San Francisco    889717.0\n",
       "             Men's Athletic Footwear    California      San Francisco    848762.0\n",
       "             Men's Street Footwear      California      San Francisco    840252.0\n",
       "Foot Locker  Men's Street Footwear      New York        New York         798289.0\n",
       "West Gear    Women's Street Footwear    California      San Francisco    746279.0\n",
       "Kohl's       Women's Apparel            California      Los Angeles      726767.0\n",
       "Foot Locker  Men's Street Footwear      South Carolina  Charleston       709340.0\n",
       "West Gear    Men's Apparel              California      San Francisco    687951.0\n",
       "             Women's Athletic Footwear  California      San Francisco    655936.0\n",
       "Kohl's       Men's Athletic Footwear    California      Los Angeles      645473.0\n",
       "Name: sales, dtype: float64"
      ]
     },
     "execution_count": 59,
     "metadata": {},
     "output_type": "execute_result"
    }
   ],
   "source": [
    "df.groupby(['retailer','product','state','city'])['sales'].sum().nlargest(10)"
   ]
  },
  {
   "cell_type": "markdown",
   "id": "829b70aa-fde6-467b-9064-cbe5df58197d",
   "metadata": {},
   "source": [
    "###### **This metric differs from the overall product and state/city metrics,in that, the overall metrics reflect New York state and New York city as leading state/city,as well as mens footwear being the leading product. On the other hand it is the same as the sales channel and retailer metrics in that West Gear is the leading retailer and the leading sales channel(outlet) is West Gear and womens apparel which is sold at West Gear outlet particularly the San Francisco outlet.**"
   ]
  },
  {
   "cell_type": "markdown",
   "id": "7d46bd6c-aecb-4e14-bb64-efd35b83a72b",
   "metadata": {},
   "source": [
    "### 3. Analysis of Quantities Sold"
   ]
  },
  {
   "cell_type": "markdown",
   "id": "f19abb0d-db45-4f2e-882c-18be7a02b418",
   "metadata": {},
   "source": [
    "###### **Total Quantities Sold**"
   ]
  },
  {
   "cell_type": "code",
   "execution_count": 60,
   "id": "6a981aec-9930-4d95-875b-b16c2e72c525",
   "metadata": {},
   "outputs": [
    {
     "name": "stdout",
     "output_type": "stream",
     "text": [
      "Total quantity sold = 2475611\n"
     ]
    }
   ],
   "source": [
    "print('Total quantity sold =',df['units_sold'].sum())"
   ]
  },
  {
   "cell_type": "markdown",
   "id": "23a0942c-d3c5-40f8-beb1-974fbed02078",
   "metadata": {},
   "source": [
    "###### **Quantities sold by year**\n"
   ]
  },
  {
   "cell_type": "code",
   "execution_count": 61,
   "id": "1171f0f4-ed37-4701-a5aa-fae96e6336d1",
   "metadata": {},
   "outputs": [
    {
     "data": {
      "text/plain": [
       "year\n",
       "2020     460099\n",
       "2021    2015512\n",
       "Name: units_sold, dtype: int32"
      ]
     },
     "execution_count": 61,
     "metadata": {},
     "output_type": "execute_result"
    }
   ],
   "source": [
    "df.groupby('year')['units_sold'].sum()"
   ]
  },
  {
   "cell_type": "markdown",
   "id": "cf36374e-4afb-4c61-8b6d-8f69b9fbf1c9",
   "metadata": {},
   "source": [
    "###### **YOY change**"
   ]
  },
  {
   "cell_type": "code",
   "execution_count": 62,
   "id": "e8446366-28f8-4d16-b9f2-3e9637f9bf16",
   "metadata": {},
   "outputs": [
    {
     "data": {
      "text/plain": [
       "year\n",
       "2020     460099\n",
       "2021    2015512\n",
       "Name: units_sold, dtype: int32"
      ]
     },
     "execution_count": 62,
     "metadata": {},
     "output_type": "execute_result"
    }
   ],
   "source": [
    "df.groupby('year')['units_sold'].sum()"
   ]
  },
  {
   "cell_type": "code",
   "execution_count": 63,
   "id": "455a8524-20ef-4fcc-8da9-f8182abe427a",
   "metadata": {},
   "outputs": [
    {
     "data": {
      "text/plain": [
       "year\n",
       "2020         NaN\n",
       "2021    460099.0\n",
       "Name: units_sold, dtype: float64"
      ]
     },
     "execution_count": 63,
     "metadata": {},
     "output_type": "execute_result"
    }
   ],
   "source": [
    "df.groupby('year')['units_sold'].sum().shift(1)"
   ]
  },
  {
   "cell_type": "code",
   "execution_count": 64,
   "id": "70128f9e-fba2-4ed5-82b5-f1e410329931",
   "metadata": {},
   "outputs": [
    {
     "data": {
      "text/plain": [
       "year\n",
       "2020         NaN\n",
       "2021    3.380605\n",
       "Name: units_sold, dtype: float64"
      ]
     },
     "execution_count": 64,
     "metadata": {},
     "output_type": "execute_result"
    }
   ],
   "source": [
    "(df.groupby('year')['units_sold'].sum()-df.groupby('year')['units_sold'].sum().shift(1))/df.groupby('year')['units_sold'].sum().shift(1)"
   ]
  },
  {
   "cell_type": "markdown",
   "id": "860840ef-e766-4fdb-8458-c9110fd26e17",
   "metadata": {},
   "source": [
    "###### **Quantities sold by product**"
   ]
  },
  {
   "cell_type": "code",
   "execution_count": 65,
   "id": "9a26c986-a067-4f2f-9806-638311a701f1",
   "metadata": {},
   "outputs": [
    {
     "data": {
      "text/plain": [
       "product\n",
       "Men's Street Footwear        593320\n",
       "Men's Athletic Footwear      434451\n",
       "Women's Apparel              433127\n",
       "Women's Street Footwear      391444\n",
       "Women's Athletic Footwear    317136\n",
       "Men's Apparel                305233\n",
       "Men's aparel                    900\n",
       "Name: units_sold, dtype: int32"
      ]
     },
     "execution_count": 65,
     "metadata": {},
     "output_type": "execute_result"
    }
   ],
   "source": [
    "df.groupby('product')['units_sold'].sum().sort_values(ascending=False)"
   ]
  },
  {
   "cell_type": "markdown",
   "id": "7d89b44f-1dad-4214-9c57-91ef92df6a55",
   "metadata": {},
   "source": [
    "###### **This metric is the same as the sales value metric. It reflects that Mens Street Footwear is the leading product.**"
   ]
  },
  {
   "cell_type": "markdown",
   "id": "8f840ace-8e1d-4e95-b7ed-d3e161da9b4e",
   "metadata": {},
   "source": [
    "###### **Quantities sold by region**"
   ]
  },
  {
   "cell_type": "code",
   "execution_count": 66,
   "id": "39da1b86-2176-4bd5-8648-17ca15224156",
   "metadata": {},
   "outputs": [
    {
     "data": {
      "text/plain": [
       "region\n",
       "West         685735\n",
       "Northeast    501279\n",
       "South        490710\n",
       "Southeast    407000\n",
       "Midwest      390887\n",
       "Name: units_sold, dtype: int32"
      ]
     },
     "execution_count": 66,
     "metadata": {},
     "output_type": "execute_result"
    }
   ],
   "source": [
    "df.groupby('region')['units_sold'].sum().sort_values(ascending=False)"
   ]
  },
  {
   "cell_type": "markdown",
   "id": "809a5492-7799-435c-9605-caf24142b983",
   "metadata": {},
   "source": [
    "###### **This metric is different from the sales value metric. In the sales value metric New York which is in the Northeast region is the leading region. However in terms of quantities sold,California(West) is the leading region.**"
   ]
  },
  {
   "cell_type": "markdown",
   "id": "4bb85118-c51c-4329-a3cc-7f2b9ee5d755",
   "metadata": {},
   "source": [
    "###### **Quantities sold by state**"
   ]
  },
  {
   "cell_type": "code",
   "execution_count": 67,
   "id": "50875f59-7861-4868-9562-e3b03fa05305",
   "metadata": {},
   "outputs": [
    {
     "data": {
      "text/plain": [
       "state\n",
       "New York          169140\n",
       "California        162034\n",
       "Texas             157950\n",
       "Florida           133430\n",
       "South Carolina     72610\n",
       "Tennessee          66077\n",
       "Idaho              63827\n",
       "Alabama            63327\n",
       "North Carolina     62936\n",
       "Louisiana          57615\n",
       "Mississippi        56814\n",
       "Georgia            56391\n",
       "Virginia           52969\n",
       "New Mexico         52633\n",
       "Nevada             51831\n",
       "Oregon             50536\n",
       "Wyoming            50228\n",
       "Michigan           50095\n",
       "Utah               48548\n",
       "Arkansas           48468\n",
       "Ohio               47781\n",
       "Arizona            46919\n",
       "Washington         46611\n",
       "Montana            42713\n",
       "Colorado           41378\n",
       "New Hampshire      40812\n",
       "Oklahoma           40459\n",
       "Hawaii             40375\n",
       "Vermont            38685\n",
       "Missouri           36404\n",
       "Connecticut        34696\n",
       "Massachusetts      32895\n",
       "Alaska             30815\n",
       "Delaware           30275\n",
       "West Virginia      29873\n",
       "Kansas             29463\n",
       "Kentucky           28664\n",
       "Pennsylvania       27662\n",
       "Rhode Island       27473\n",
       "New Jersey         26540\n",
       "Indiana            26332\n",
       "Illinois           24957\n",
       "Wisconsin          23950\n",
       "Iowa               23446\n",
       "South Dakota       22973\n",
       "North Dakota       22781\n",
       "Maine              22410\n",
       "Minnesota          20838\n",
       "Maryland           20818\n",
       "Nebraska           19154\n",
       "Name: units_sold, dtype: int32"
      ]
     },
     "execution_count": 67,
     "metadata": {},
     "output_type": "execute_result"
    }
   ],
   "source": [
    "df.groupby('state')['units_sold'].sum().sort_values(ascending=False)"
   ]
  },
  {
   "cell_type": "markdown",
   "id": "0e670aaa-ff07-4f3e-b61a-da15066f296d",
   "metadata": {},
   "source": [
    "###### **This metric is the same as the sales value state metric. In the sales value metric New York is the leading state as displayed above.**"
   ]
  },
  {
   "cell_type": "markdown",
   "id": "6b266274-2068-4ae3-b8e7-1e6434cba094",
   "metadata": {},
   "source": [
    "###### **Quantities sold by city**"
   ]
  },
  {
   "cell_type": "code",
   "execution_count": 68,
   "id": "5cf9958e-6b7d-419f-9d31-b2b85fb8a14c",
   "metadata": {},
   "outputs": [
    {
     "data": {
      "text/plain": [
       "city\n",
       "New York          111954\n",
       "Charleston        102483\n",
       "Houston            88772\n",
       "San Francisco      85650\n",
       "Los Angeles        76384\n",
       "Miami              73135\n",
       "Portland           72946\n",
       "Dallas             69178\n",
       "Knoxville          66077\n",
       "Boise              63827\n",
       "Birmingham         63327\n",
       "Charlotte          62936\n",
       "Orlando            60295\n",
       "New Orleans        57615\n",
       "Albany             57186\n",
       "Jackson            56814\n",
       "Atlanta            56391\n",
       "Richmond           52969\n",
       "Albuquerque        52633\n",
       "Las Vegas          51831\n",
       "Cheyenne           50228\n",
       "Detroit            50095\n",
       "Salt Lake City     48548\n",
       "Little Rock        48468\n",
       "Columbus           47781\n",
       "Phoenix            46919\n",
       "Seattle            46611\n",
       "Billings           42713\n",
       "Denver             41378\n",
       "Manchester         40812\n",
       "Oklahoma City      40459\n",
       "Honolulu           40375\n",
       "Burlington         38685\n",
       "St. Louis          36404\n",
       "Hartford           34696\n",
       "Boston             32895\n",
       "Anchorage          30815\n",
       "Wilmington         30275\n",
       "Wichita            29463\n",
       "Louisville         28664\n",
       "Philadelphia       27662\n",
       "Providence         27473\n",
       "Newark             26540\n",
       "Indianapolis       26332\n",
       "Chicago            24957\n",
       "Milwaukee          23950\n",
       "Des Moines         23446\n",
       "Sioux Falls        22973\n",
       "Fargo              22781\n",
       "Minneapolis        20838\n",
       "Baltimore          20818\n",
       "Omaha              19154\n",
       "Name: units_sold, dtype: int32"
      ]
     },
     "execution_count": 68,
     "metadata": {},
     "output_type": "execute_result"
    }
   ],
   "source": [
    "df.groupby('city')['units_sold'].sum().sort_values(ascending=False)"
   ]
  },
  {
   "cell_type": "markdown",
   "id": "08af09cb-a016-438f-86b0-e14a0d9d6b22",
   "metadata": {},
   "source": [
    "###### **This metric is the same as the sales value city metric. In the sales value metric New York is the leading city just as displayed above.**"
   ]
  },
  {
   "cell_type": "markdown",
   "id": "3e0ec8e5-3b72-496a-9a27-3ad3c1a4c1c9",
   "metadata": {},
   "source": [
    "###### **Quantities sold by State,region and city**"
   ]
  },
  {
   "cell_type": "code",
   "execution_count": 69,
   "id": "4f3179e2-a766-4fdd-b272-155e70a3e2ff",
   "metadata": {},
   "outputs": [
    {
     "data": {
      "text/plain": [
       "state           region     city          \n",
       "New York        Northeast  New York          111954\n",
       "Texas           South      Houston            88772\n",
       "California      West       San Francisco      85650\n",
       "                           Los Angeles        76384\n",
       "Florida         Southeast  Miami              73135\n",
       "South Carolina  Southeast  Charleston         72610\n",
       "Texas           South      Dallas             69178\n",
       "Tennessee       South      Knoxville          66077\n",
       "Idaho           West       Boise              63827\n",
       "Alabama         South      Birmingham         63327\n",
       "North Carolina  Southeast  Charlotte          62936\n",
       "Florida         Southeast  Orlando            60295\n",
       "Louisiana       South      New Orleans        57615\n",
       "New York        Northeast  Albany             57186\n",
       "Mississippi     South      Jackson            56814\n",
       "Georgia         Southeast  Atlanta            56391\n",
       "Virginia        Southeast  Richmond           52969\n",
       "New Mexico      West       Albuquerque        52633\n",
       "Nevada          West       Las Vegas          51831\n",
       "Oregon          West       Portland           50536\n",
       "Wyoming         West       Cheyenne           50228\n",
       "Michigan        Midwest    Detroit            50095\n",
       "Utah            West       Salt Lake City     48548\n",
       "Arkansas        South      Little Rock        48468\n",
       "Ohio            Midwest    Columbus           47781\n",
       "Arizona         West       Phoenix            46919\n",
       "Washington      West       Seattle            46611\n",
       "Montana         Midwest    Billings           42713\n",
       "Colorado        West       Denver             41378\n",
       "New Hampshire   Northeast  Manchester         40812\n",
       "Oklahoma        South      Oklahoma City      40459\n",
       "Hawaii          West       Honolulu           40375\n",
       "Vermont         Northeast  Burlington         38685\n",
       "Missouri        Midwest    St. Louis          36404\n",
       "Connecticut     Northeast  Hartford           34696\n",
       "Massachusetts   Northeast  Boston             32895\n",
       "Alaska          West       Anchorage          30815\n",
       "Delaware        Northeast  Wilmington         30275\n",
       "West Virginia   Northeast  Charleston         29873\n",
       "Kansas          Midwest    Wichita            29463\n",
       "Kentucky        Southeast  Louisville         28664\n",
       "Pennsylvania    Northeast  Philadelphia       27662\n",
       "Rhode Island    Northeast  Providence         27473\n",
       "New Jersey      Northeast  Newark             26540\n",
       "Indiana         Midwest    Indianapolis       26332\n",
       "Illinois        Midwest    Chicago            24957\n",
       "Wisconsin       Midwest    Milwaukee          23950\n",
       "Iowa            Midwest    Des Moines         23446\n",
       "South Dakota    Midwest    Sioux Falls        22973\n",
       "North Dakota    Midwest    Fargo              22781\n",
       "Maine           Northeast  Portland           22410\n",
       "Minnesota       Midwest    Minneapolis        20838\n",
       "Maryland        Northeast  Baltimore          20818\n",
       "Nebraska        Midwest    Omaha              19154\n",
       "Name: units_sold, dtype: int32"
      ]
     },
     "execution_count": 69,
     "metadata": {},
     "output_type": "execute_result"
    }
   ],
   "source": [
    "df.groupby(['state','region','city'])['units_sold'].sum().sort_values(ascending=False)"
   ]
  },
  {
   "attachments": {},
   "cell_type": "markdown",
   "id": "96e67f66-6703-4c68-b5b6-ff6d6234cc4e",
   "metadata": {},
   "source": [
    "###### **This metric is the same as the sales value metric. In the sales value metric New York is the leading state as displayed above.**"
   ]
  },
  {
   "cell_type": "code",
   "execution_count": 70,
   "id": "3ad53fae-0b43-4844-8ca3-42f3029fc38f",
   "metadata": {},
   "outputs": [
    {
     "data": {
      "text/plain": [
       "sales_method\n",
       "Online      939093\n",
       "Outlet      846528\n",
       "In-store    689990\n",
       "Name: units_sold, dtype: int32"
      ]
     },
     "execution_count": 70,
     "metadata": {},
     "output_type": "execute_result"
    }
   ],
   "source": [
    "df.groupby('sales_method')['units_sold'].sum().sort_values(ascending=False)"
   ]
  },
  {
   "cell_type": "markdown",
   "id": "9338c100-d194-470a-ad47-061f330f4875",
   "metadata": {},
   "source": [
    "###### **Quantities of Products sold by sales channel in each state and city**"
   ]
  },
  {
   "cell_type": "code",
   "execution_count": 71,
   "id": "80388add-17d4-4bed-aa55-61c338572067",
   "metadata": {},
   "outputs": [
    {
     "data": {
      "text/plain": [
       "sales_method  product                  retailer       state           city         \n",
       "Outlet        Men's Street Footwear    West Gear      California      San Francisco    13319\n",
       "Online        Men's Street Footwear    Foot Locker    South Carolina  Charleston       13204\n",
       "Outlet        Men's Street Footwear    Kohl's         California      Los Angeles      12287\n",
       "              Men's Athletic Footwear  West Gear      California      San Francisco    12046\n",
       "Online        Men's Street Footwear    Sports Direct  North Carolina  Charlotte        11944\n",
       "                                       Amazon         Ohio            Columbus         11391\n",
       "Outlet        Women's Apparel          West Gear      California      San Francisco    11307\n",
       "              Men's Athletic Footwear  Kohl's         California      Los Angeles      11040\n",
       "              Women's Street Footwear  West Gear      California      San Francisco    11015\n",
       "              Men's Street Footwear    Sports Direct  Texas           Dallas           10733\n",
       "Name: units_sold, dtype: int32"
      ]
     },
     "execution_count": 71,
     "metadata": {},
     "output_type": "execute_result"
    }
   ],
   "source": [
    "df.groupby(['sales_method','product','retailer','state','city'])['units_sold'].sum().nlargest(10)"
   ]
  },
  {
   "cell_type": "markdown",
   "id": "e20526f4-2c77-4edf-81c2-abbd5d254dd7",
   "metadata": {},
   "source": [
    "###### **This metric is the same as the sales value metric.**"
   ]
  },
  {
   "cell_type": "markdown",
   "id": "b2445e14-4f84-4326-be1a-a6d28e68f083",
   "metadata": {},
   "source": [
    "###### **Quantities sold by Retailer and Product by state and city**"
   ]
  },
  {
   "cell_type": "code",
   "execution_count": 72,
   "id": "ec80215b-ae17-4589-be65-3f13cc5e0b4e",
   "metadata": {},
   "outputs": [
    {
     "data": {
      "text/plain": [
       "retailer       product                  state           city         \n",
       "West Gear      Men's Street Footwear    California      San Francisco    16108\n",
       "Foot Locker    Men's Street Footwear    New York        New York         15551\n",
       "Kohl's         Men's Street Footwear    California      Los Angeles      14829\n",
       "West Gear      Men's Athletic Footwear  California      San Francisco    14607\n",
       "               Women's Apparel          California      San Francisco    13780\n",
       "Kohl's         Men's Athletic Footwear  California      Los Angeles      13354\n",
       "West Gear      Women's Street Footwear  California      San Francisco    13346\n",
       "Foot Locker    Men's Street Footwear    South Carolina  Charleston       13204\n",
       "Sports Direct  Women's Apparel          Texas           Dallas           13056\n",
       "Kohl's         Women's Apparel          California      Los Angeles      12968\n",
       "Name: units_sold, dtype: int32"
      ]
     },
     "execution_count": 72,
     "metadata": {},
     "output_type": "execute_result"
    }
   ],
   "source": [
    "df.groupby(['retailer','product','state','city'])['units_sold'].sum().nlargest(10)"
   ]
  },
  {
   "cell_type": "markdown",
   "id": "43c04247-0135-48f7-910b-b604686521e2",
   "metadata": {},
   "source": [
    "###### **This metric is different from the sales value metric. In terms of the sales value metric womens apparel from the same outlet(West Gear) is the leader. However in terms of quantities sold mens street footwear is in the lead. This suggest that womens apparel maybe more expensive than mens footwear for it to be a leader in terms of sales value and yet when observing quantities sold it is only in the top 4.**"
   ]
  }
 ],
 "metadata": {
  "kernelspec": {
   "display_name": "Python 3 (ipykernel)",
   "language": "python",
   "name": "python3"
  },
  "language_info": {
   "codemirror_mode": {
    "name": "ipython",
    "version": 3
   },
   "file_extension": ".py",
   "mimetype": "text/x-python",
   "name": "python",
   "nbconvert_exporter": "python",
   "pygments_lexer": "ipython3",
   "version": "3.13.3"
  }
 },
 "nbformat": 4,
 "nbformat_minor": 5
}
